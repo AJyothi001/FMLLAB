{
  "nbformat": 4,
  "nbformat_minor": 0,
  "metadata": {
    "colab": {
      "provenance": [],
      "authorship_tag": "ABX9TyOFrwSrHhULf1x84Ap5GEkF",
      "include_colab_link": true
    },
    "kernelspec": {
      "name": "python3",
      "display_name": "Python 3"
    },
    "language_info": {
      "name": "python"
    }
  },
  "cells": [
    {
      "cell_type": "markdown",
      "metadata": {
        "id": "view-in-github",
        "colab_type": "text"
      },
      "source": [
        "<a href=\"https://colab.research.google.com/github/AJyothi001/FMLLAB/blob/main/Tokenization.ipynb\" target=\"_parent\"><img src=\"https://colab.research.google.com/assets/colab-badge.svg\" alt=\"Open In Colab\"/></a>"
      ]
    },
    {
      "cell_type": "code",
      "execution_count": 45,
      "metadata": {
        "colab": {
          "base_uri": "https://localhost:8080/"
        },
        "id": "c2G1FEEvVP8q",
        "outputId": "2267b7ce-6614-4a01-e202-0640a12ca7f8"
      },
      "outputs": [
        {
          "output_type": "stream",
          "name": "stdout",
          "text": [
            "['This', 'Experment', 'is', 'based', 'on', 'Machine', 'Learning', 'which', 'is', 'a', 'part', 'of', 'Natural', 'Language', 'Processing']\n",
            "15\n"
          ]
        }
      ],
      "source": [
        "text='''This Experment is based on Machine Learning which is a part of Natural Language Processing'''\n",
        "tokens=text.split()\n",
        "print(tokens)\n",
        "print(len(tokens))"
      ]
    },
    {
      "cell_type": "code",
      "source": [
        "text='''This Experment is based on Machine Learning which is a part of Natural Language Processing.It is used in Tokenization'''\n",
        "sent=text.split('.')\n",
        "print(sent)\n",
        "print(len(sent))"
      ],
      "metadata": {
        "colab": {
          "base_uri": "https://localhost:8080/"
        },
        "id": "FR5DGuHHWJxe",
        "outputId": "5e7e6522-64ab-4294-dc97-3290598ff706"
      },
      "execution_count": 7,
      "outputs": [
        {
          "output_type": "stream",
          "name": "stdout",
          "text": [
            "['This Experment is based on Machine Learning which is a part of Natural Language Processing', 'It is used in Tokenization']\n",
            "2\n"
          ]
        }
      ]
    },
    {
      "cell_type": "code",
      "source": [
        "import re"
      ],
      "metadata": {
        "id": "WS-DbBCvWtgK"
      },
      "execution_count": 8,
      "outputs": []
    },
    {
      "cell_type": "code",
      "source": [
        "tokens=re.findall(\"[\\w']+\",text)\n",
        "print(tokens)\n",
        "print(len(tokens))"
      ],
      "metadata": {
        "colab": {
          "base_uri": "https://localhost:8080/"
        },
        "id": "_ydCR2jrWvdR",
        "outputId": "fcd3c663-ef22-4b43-9e13-132ae3bb7847"
      },
      "execution_count": 11,
      "outputs": [
        {
          "output_type": "stream",
          "name": "stdout",
          "text": [
            "['This', 'Experment', 'is', 'based', 'on', 'Machine', 'Learning', 'which', 'is', 'a', 'part', 'of', 'Natural', 'Language', 'Processing', 'It', 'is', 'used', 'in', 'Tokenization']\n",
            "20\n"
          ]
        }
      ]
    },
    {
      "cell_type": "code",
      "source": [
        "sent=re.compile('[.?!]').split(text)\n",
        "print(sent)\n",
        "print(len(sent))"
      ],
      "metadata": {
        "colab": {
          "base_uri": "https://localhost:8080/"
        },
        "id": "RI2z7ahbY6BX",
        "outputId": "deb38742-99f5-443f-cf24-4a4f75d40d0e"
      },
      "execution_count": 14,
      "outputs": [
        {
          "output_type": "stream",
          "name": "stdout",
          "text": [
            "['This Experment is based on Machine Learning which is a part of Natural Language Processing', 'It is used in Tokenization']\n",
            "2\n"
          ]
        }
      ]
    },
    {
      "cell_type": "code",
      "source": [
        "!pip install --user -U nltk"
      ],
      "metadata": {
        "colab": {
          "base_uri": "https://localhost:8080/"
        },
        "id": "457AJw1eZbuV",
        "outputId": "53934ace-2f37-45e4-c889-007dfb2e18ff"
      },
      "execution_count": 15,
      "outputs": [
        {
          "output_type": "stream",
          "name": "stdout",
          "text": [
            "Looking in indexes: https://pypi.org/simple, https://us-python.pkg.dev/colab-wheels/public/simple/\n",
            "Requirement already satisfied: nltk in /usr/local/lib/python3.10/dist-packages (3.8.1)\n",
            "Requirement already satisfied: click in /usr/local/lib/python3.10/dist-packages (from nltk) (8.1.3)\n",
            "Requirement already satisfied: joblib in /usr/local/lib/python3.10/dist-packages (from nltk) (1.2.0)\n",
            "Requirement already satisfied: regex>=2021.8.3 in /usr/local/lib/python3.10/dist-packages (from nltk) (2022.10.31)\n",
            "Requirement already satisfied: tqdm in /usr/local/lib/python3.10/dist-packages (from nltk) (4.65.0)\n"
          ]
        }
      ]
    },
    {
      "cell_type": "code",
      "source": [
        "import nltk\n",
        "nltk.download('punkt')"
      ],
      "metadata": {
        "colab": {
          "base_uri": "https://localhost:8080/"
        },
        "id": "foUgv3pjZnq1",
        "outputId": "5d7cab8a-0915-4d54-eebf-fabf45c00922"
      },
      "execution_count": 17,
      "outputs": [
        {
          "output_type": "stream",
          "name": "stderr",
          "text": [
            "[nltk_data] Downloading package punkt to /root/nltk_data...\n",
            "[nltk_data]   Unzipping tokenizers/punkt.zip.\n"
          ]
        },
        {
          "output_type": "execute_result",
          "data": {
            "text/plain": [
              "True"
            ]
          },
          "metadata": {},
          "execution_count": 17
        }
      ]
    },
    {
      "cell_type": "code",
      "source": [
        "from nltk.tokenize import word_tokenize\n",
        "tokens=word_tokenize(text)\n",
        "print(tokens)\n",
        "print(len(tokens))"
      ],
      "metadata": {
        "colab": {
          "base_uri": "https://localhost:8080/"
        },
        "id": "r6oYdAsJZykD",
        "outputId": "7082cb00-ded7-4f4d-edd6-dc7b0749aeed"
      },
      "execution_count": 21,
      "outputs": [
        {
          "output_type": "stream",
          "name": "stdout",
          "text": [
            "['This', 'Experment', 'is', 'based', 'on', 'Machine', 'Learning', 'which', 'is', 'a', 'part', 'of', 'Natural', 'Language', 'Processing.It', 'is', 'used', 'in', 'Tokenization']\n",
            "19\n"
          ]
        }
      ]
    },
    {
      "cell_type": "code",
      "source": [
        "from nltk.tokenize import sent_tokenize\n",
        "sent=sent_tokenize(text)\n",
        "print(sent)\n",
        "print(len(sent))"
      ],
      "metadata": {
        "colab": {
          "base_uri": "https://localhost:8080/"
        },
        "id": "_-ZjHDBdZyjW",
        "outputId": "a3ccbdac-7de1-4f4c-c87b-9d696008a392"
      },
      "execution_count": 22,
      "outputs": [
        {
          "output_type": "stream",
          "name": "stdout",
          "text": [
            "['This Experment is based on Machine Learning which is a part of Natural Language Processing.It is used in Tokenization']\n",
            "1\n"
          ]
        }
      ]
    },
    {
      "cell_type": "code",
      "source": [
        "from nltk.stem import PorterStemmer\n",
        "porter=PorterStemmer()\n",
        "print(porter.stem('Dogs'))\n",
        "print(porter.stem('Dog'))"
      ],
      "metadata": {
        "colab": {
          "base_uri": "https://localhost:8080/"
        },
        "id": "3m3E_5QjalIu",
        "outputId": "f555f967-f0a2-4641-f51b-a3d498972f0e"
      },
      "execution_count": 30,
      "outputs": [
        {
          "output_type": "stream",
          "name": "stdout",
          "text": [
            "dog\n",
            "dog\n"
          ]
        }
      ]
    },
    {
      "cell_type": "code",
      "source": [
        "from nltk.stem import PorterStemmer\n",
        "porter=PorterStemmer()\n",
        "from nltk.tokenize import word_tokenize,sent_tokenize\n",
        "def expToken(text):\n",
        "  token_words=word_tokenize(text)\n",
        "  print(token_words)\n",
        "  sent=[]\n",
        "  for word in token_words:\n",
        "    sent.append(porter.stem(word))\n",
        "    sent.append(\" \")\n",
        "    return \"\".join(sent)\n",
        "x=expToken(text)\n",
        "print(\"After Stemming\",x)"
      ],
      "metadata": {
        "colab": {
          "base_uri": "https://localhost:8080/"
        },
        "id": "VTpqT93qbPtN",
        "outputId": "5b555687-2c83-49f3-ae54-8040c7a1126a"
      },
      "execution_count": 33,
      "outputs": [
        {
          "output_type": "stream",
          "name": "stdout",
          "text": [
            "['This', 'Experment', 'is', 'based', 'on', 'Machine', 'Learning', 'which', 'is', 'a', 'part', 'of', 'Natural', 'Language', 'Processing.It', 'is', 'used', 'in', 'Tokenization']\n",
            "After Stemming thi \n"
          ]
        }
      ]
    },
    {
      "cell_type": "code",
      "source": [
        "import nltk\n",
        "nltk.download('wordnet')"
      ],
      "metadata": {
        "colab": {
          "base_uri": "https://localhost:8080/"
        },
        "id": "OGcrkZNEZbs9",
        "outputId": "eb655f20-9e80-4d1a-9873-d6fd52ba3a14"
      },
      "execution_count": 46,
      "outputs": [
        {
          "output_type": "stream",
          "name": "stderr",
          "text": [
            "[nltk_data] Downloading package wordnet to /root/nltk_data...\n",
            "[nltk_data]   Package wordnet is already up-to-date!\n"
          ]
        },
        {
          "output_type": "execute_result",
          "data": {
            "text/plain": [
              "True"
            ]
          },
          "metadata": {},
          "execution_count": 46
        }
      ]
    }
  ]
}