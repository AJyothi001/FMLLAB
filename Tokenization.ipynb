{
  "nbformat": 4,
  "nbformat_minor": 0,
  "metadata": {
    "colab": {
      "provenance": [],
      "authorship_tag": "ABX9TyOXX9uK2KQ4jBYJd7fs8/Ny",
      "include_colab_link": true
    },
    "kernelspec": {
      "name": "python3",
      "display_name": "Python 3"
    },
    "language_info": {
      "name": "python"
    }
  },
  "cells": [
    {
      "cell_type": "markdown",
      "metadata": {
        "id": "view-in-github",
        "colab_type": "text"
      },
      "source": [
        "<a href=\"https://colab.research.google.com/github/AJyothi001/FMLLAB/blob/main/Tokenization.ipynb\" target=\"_parent\"><img src=\"https://colab.research.google.com/assets/colab-badge.svg\" alt=\"Open In Colab\"/></a>"
      ]
    },
    {
      "cell_type": "code",
      "execution_count": 2,
      "metadata": {
        "colab": {
          "base_uri": "https://localhost:8080/"
        },
        "id": "c2G1FEEvVP8q",
        "outputId": "7fb406ec-f67f-4f66-c14e-912ffc3fddf7"
      },
      "outputs": [
        {
          "output_type": "stream",
          "name": "stdout",
          "text": [
            "['This', 'Experment', 'is', 'based', 'on', 'Machine', 'Learning', 'which', 'is', 'a', 'part', 'of', 'Natural', 'Language', 'Processing']\n",
            "15\n"
          ]
        }
      ],
      "source": [
        "text='''This Experment is based on Machine Learning which is a part of Natural Language Processing'''\n",
        "tokens=text.split()\n",
        "print(tokens)\n",
        "print(len(tokens))"
      ]
    },
    {
      "cell_type": "code",
      "source": [
        "text='''This Experment is based on Machine Learning which is a part of Natural Language Processing.It is used in Tokenization'''\n",
        "sent=text.split('.')\n",
        "print(sent)\n",
        "print(len(sent))"
      ],
      "metadata": {
        "colab": {
          "base_uri": "https://localhost:8080/"
        },
        "id": "FR5DGuHHWJxe",
        "outputId": "4f2246a5-69f5-4b18-d6cc-bd9bbc5bc12b"
      },
      "execution_count": 3,
      "outputs": [
        {
          "output_type": "stream",
          "name": "stdout",
          "text": [
            "['This Experment is based on Machine Learning which is a part of Natural Language Processing', 'It is used in Tokenization']\n",
            "2\n"
          ]
        }
      ]
    },
    {
      "cell_type": "code",
      "source": [
        "import re"
      ],
      "metadata": {
        "id": "WS-DbBCvWtgK"
      },
      "execution_count": 4,
      "outputs": []
    },
    {
      "cell_type": "code",
      "source": [
        "tokens=re.findall(\"[\\w']+\",text)\n",
        "print(tokens)\n",
        "print(len(tokens))"
      ],
      "metadata": {
        "colab": {
          "base_uri": "https://localhost:8080/"
        },
        "id": "_ydCR2jrWvdR",
        "outputId": "07a1f919-15f7-40bb-f879-0aa5703cf8ea"
      },
      "execution_count": 5,
      "outputs": [
        {
          "output_type": "stream",
          "name": "stdout",
          "text": [
            "['This', 'Experment', 'is', 'based', 'on', 'Machine', 'Learning', 'which', 'is', 'a', 'part', 'of', 'Natural', 'Language', 'Processing', 'It', 'is', 'used', 'in', 'Tokenization']\n",
            "20\n"
          ]
        }
      ]
    },
    {
      "cell_type": "code",
      "source": [
        "sent=re.compile('[.?!]').split(text)\n",
        "print(sent)\n",
        "print(len(sent))"
      ],
      "metadata": {
        "colab": {
          "base_uri": "https://localhost:8080/"
        },
        "id": "RI2z7ahbY6BX",
        "outputId": "5092a918-1539-4fd4-8eab-9ef73e0e1fa5"
      },
      "execution_count": 6,
      "outputs": [
        {
          "output_type": "stream",
          "name": "stdout",
          "text": [
            "['This Experment is based on Machine Learning which is a part of Natural Language Processing', 'It is used in Tokenization']\n",
            "2\n"
          ]
        }
      ]
    },
    {
      "cell_type": "code",
      "source": [
        "!pip install --user -U nltk"
      ],
      "metadata": {
        "colab": {
          "base_uri": "https://localhost:8080/"
        },
        "id": "457AJw1eZbuV",
        "outputId": "42ee19ff-3ca7-49ed-d1c3-70acabf624c2"
      },
      "execution_count": 7,
      "outputs": [
        {
          "output_type": "stream",
          "name": "stdout",
          "text": [
            "Looking in indexes: https://pypi.org/simple, https://us-python.pkg.dev/colab-wheels/public/simple/\n",
            "Requirement already satisfied: nltk in /usr/local/lib/python3.10/dist-packages (3.8.1)\n",
            "Requirement already satisfied: click in /usr/local/lib/python3.10/dist-packages (from nltk) (8.1.3)\n",
            "Requirement already satisfied: joblib in /usr/local/lib/python3.10/dist-packages (from nltk) (1.2.0)\n",
            "Requirement already satisfied: regex>=2021.8.3 in /usr/local/lib/python3.10/dist-packages (from nltk) (2022.10.31)\n",
            "Requirement already satisfied: tqdm in /usr/local/lib/python3.10/dist-packages (from nltk) (4.65.0)\n"
          ]
        }
      ]
    },
    {
      "cell_type": "code",
      "source": [
        "import nltk\n",
        "nltk.download('punkt')"
      ],
      "metadata": {
        "colab": {
          "base_uri": "https://localhost:8080/"
        },
        "id": "foUgv3pjZnq1",
        "outputId": "17b59ccb-bfc5-4359-d6b1-a31ca7c226a8"
      },
      "execution_count": 8,
      "outputs": [
        {
          "output_type": "stream",
          "name": "stderr",
          "text": [
            "[nltk_data] Downloading package punkt to /root/nltk_data...\n",
            "[nltk_data]   Unzipping tokenizers/punkt.zip.\n"
          ]
        },
        {
          "output_type": "execute_result",
          "data": {
            "text/plain": [
              "True"
            ]
          },
          "metadata": {},
          "execution_count": 8
        }
      ]
    },
    {
      "cell_type": "code",
      "source": [
        "from nltk.tokenize import word_tokenize\n",
        "tokens=word_tokenize(text)\n",
        "print(tokens)\n",
        "print(len(tokens))"
      ],
      "metadata": {
        "colab": {
          "base_uri": "https://localhost:8080/"
        },
        "id": "r6oYdAsJZykD",
        "outputId": "62f24a84-f679-4d1c-f32d-752ab13ff095"
      },
      "execution_count": 9,
      "outputs": [
        {
          "output_type": "stream",
          "name": "stdout",
          "text": [
            "['This', 'Experment', 'is', 'based', 'on', 'Machine', 'Learning', 'which', 'is', 'a', 'part', 'of', 'Natural', 'Language', 'Processing.It', 'is', 'used', 'in', 'Tokenization']\n",
            "19\n"
          ]
        }
      ]
    },
    {
      "cell_type": "code",
      "source": [
        "from nltk.tokenize import sent_tokenize\n",
        "sent=sent_tokenize(text)\n",
        "print(sent)\n",
        "print(len(sent))"
      ],
      "metadata": {
        "colab": {
          "base_uri": "https://localhost:8080/"
        },
        "id": "_-ZjHDBdZyjW",
        "outputId": "2533b621-4dca-451f-9a19-d180ca41641a"
      },
      "execution_count": 10,
      "outputs": [
        {
          "output_type": "stream",
          "name": "stdout",
          "text": [
            "['This Experment is based on Machine Learning which is a part of Natural Language Processing.It is used in Tokenization']\n",
            "1\n"
          ]
        }
      ]
    },
    {
      "cell_type": "code",
      "source": [
        "from nltk.stem import PorterStemmer\n",
        "porter=PorterStemmer()\n",
        "print(porter.stem('Dogs'))\n",
        "print(porter.stem('Dog'))"
      ],
      "metadata": {
        "colab": {
          "base_uri": "https://localhost:8080/"
        },
        "id": "3m3E_5QjalIu",
        "outputId": "a93def41-b263-46f6-b8c2-223617ee7588"
      },
      "execution_count": 11,
      "outputs": [
        {
          "output_type": "stream",
          "name": "stdout",
          "text": [
            "dog\n",
            "dog\n"
          ]
        }
      ]
    },
    {
      "cell_type": "code",
      "source": [
        "from nltk.stem import PorterStemmer\n",
        "porter=PorterStemmer()\n",
        "from nltk.tokenize import word_tokenize,sent_tokenize\n",
        "def expToken(text):\n",
        "  token_words=word_tokenize(text)\n",
        "  print(token_words)\n",
        "  sent=[]\n",
        "  for word in token_words:\n",
        "    sent.append(porter.stem(word))\n",
        "    sent.append(\" \")\n",
        "    return \"\".join(sent)\n",
        "x=expToken(text)\n",
        "print(\"After Stemming\",x)"
      ],
      "metadata": {
        "colab": {
          "base_uri": "https://localhost:8080/"
        },
        "id": "VTpqT93qbPtN",
        "outputId": "13b21cdc-929e-41e9-f922-587282131b77"
      },
      "execution_count": 12,
      "outputs": [
        {
          "output_type": "stream",
          "name": "stdout",
          "text": [
            "['This', 'Experment', 'is', 'based', 'on', 'Machine', 'Learning', 'which', 'is', 'a', 'part', 'of', 'Natural', 'Language', 'Processing.It', 'is', 'used', 'in', 'Tokenization']\n",
            "After Stemming thi \n"
          ]
        }
      ]
    },
    {
      "cell_type": "code",
      "source": [
        "import nltk\n",
        "from nltk.stem import WordNetLemmatizer\n",
        "wordnet_lemmatizer = WordNetLemmatizer()\n",
        "\n",
        "sentence = \"He was running and eating at same time. He has bad habit of swimming after playing long hours in the Sun.\"\n",
        "punctuations=\"?:!.,;\"\n",
        "token_words = nltk.word_tokenize(sentence)\n",
        "print(token_words)\n",
        "\n",
        "lemma_sentence=[]\n",
        "for word in token_words:\n",
        "  lemma_sentence.append(wordnet_lemmatizer.lemmatize(word))\n",
        "  lemma_sentence.append(\" \")\n",
        "\n",
        "print(''.join(lemma_sentence))\n",
        "\n",
        "     \n"
      ],
      "metadata": {
        "id": "5ERdjOCgugH-",
        "outputId": "de651e35-a035-459b-d7d9-ab2dd8d32b24",
        "colab": {
          "base_uri": "https://localhost:8080/"
        }
      },
      "execution_count": 13,
      "outputs": [
        {
          "output_type": "stream",
          "name": "stdout",
          "text": [
            "['He', 'was', 'running', 'and', 'eating', 'at', 'same', 'time', '.', 'He', 'has', 'bad', 'habit', 'of', 'swimming', 'after', 'playing', 'long', 'hours', 'in', 'the', 'Sun', '.']\n",
            "He wa running and eating at same time . He ha bad habit of swimming after playing long hour in the Sun . \n"
          ]
        }
      ]
    },
    {
      "cell_type": "code",
      "source": [
        "import nltk\n",
        "nltk.download('wordnet')"
      ],
      "metadata": {
        "colab": {
          "base_uri": "https://localhost:8080/"
        },
        "id": "OGcrkZNEZbs9",
        "outputId": "eb655f20-9e80-4d1a-9873-d6fd52ba3a14"
      },
      "execution_count": null,
      "outputs": [
        {
          "output_type": "stream",
          "name": "stderr",
          "text": [
            "[nltk_data] Downloading package wordnet to /root/nltk_data...\n",
            "[nltk_data]   Package wordnet is already up-to-date!\n"
          ]
        },
        {
          "output_type": "execute_result",
          "data": {
            "text/plain": [
              "True"
            ]
          },
          "metadata": {},
          "execution_count": 46
        }
      ]
    }
  ]
}